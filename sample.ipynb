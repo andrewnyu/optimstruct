{
 "cells": [
  {
   "cell_type": "code",
   "execution_count": 4,
   "id": "c03f3b8e",
   "metadata": {},
   "outputs": [],
   "source": [
    "import numpy as np\n",
    "from optimstruct.optim_dict import optim_dict"
   ]
  },
  {
   "cell_type": "markdown",
   "id": "8623c199",
   "metadata": {},
   "source": [
    "Initialize the optim_dict"
   ]
  },
  {
   "cell_type": "code",
   "execution_count": 5,
   "id": "35a4f1ca",
   "metadata": {},
   "outputs": [],
   "source": [
    "my_vars = optim_dict()"
   ]
  },
  {
   "cell_type": "markdown",
   "id": "e920b877",
   "metadata": {},
   "source": [
    "Add a variable"
   ]
  },
  {
   "cell_type": "code",
   "execution_count": 6,
   "id": "ade94d2d",
   "metadata": {},
   "outputs": [],
   "source": [
    "foo1 = np.array([[1,2,3], [2,4,5], [3,5,7]])\n",
    "my_vars.add_var(\"foo1\", foo1)\n",
    "\n",
    "foo2 = np.array([[1,12,3], [2,1,5], [3,55,7]])\n",
    "my_vars.add_var(\"foo2\", foo2)"
   ]
  },
  {
   "cell_type": "markdown",
   "id": "995a2d38",
   "metadata": {},
   "source": [
    "flatten into np.array ready to be used with Scipy Minimize"
   ]
  },
  {
   "cell_type": "code",
   "execution_count": 7,
   "id": "26b0c9ef",
   "metadata": {},
   "outputs": [
    {
     "name": "stdout",
     "output_type": "stream",
     "text": [
      "<class 'numpy.ndarray'> [ 1  2  3  2  4  5  3  5  7  1 12  3  2  1  5  3 55  7]\n"
     ]
    }
   ],
   "source": [
    "x = my_vars.toVector()\n",
    "print(type(x), x)"
   ]
  },
  {
   "cell_type": "markdown",
   "id": "b4fcde9a",
   "metadata": {},
   "source": [
    "return np.array into easily accessible dictionary"
   ]
  },
  {
   "cell_type": "code",
   "execution_count": 8,
   "id": "4986aaa5",
   "metadata": {},
   "outputs": [
    {
     "name": "stdout",
     "output_type": "stream",
     "text": [
      "{'foo1': array([[1, 2, 3],\n",
      "       [2, 4, 5],\n",
      "       [3, 5, 7]]), 'foo2': array([[ 1, 12,  3],\n",
      "       [ 2,  1,  5],\n",
      "       [ 3, 55,  7]])}\n"
     ]
    }
   ],
   "source": [
    "var_dict = my_vars.toDict(x)\n",
    "print(var_dict)"
   ]
  }
 ],
 "metadata": {
  "kernelspec": {
   "display_name": "Python 3",
   "language": "python",
   "name": "python3"
  },
  "language_info": {
   "codemirror_mode": {
    "name": "ipython",
    "version": 3
   },
   "file_extension": ".py",
   "mimetype": "text/x-python",
   "name": "python",
   "nbconvert_exporter": "python",
   "pygments_lexer": "ipython3",
   "version": "3.8.5"
  }
 },
 "nbformat": 4,
 "nbformat_minor": 5
}
